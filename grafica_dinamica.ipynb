{
  "nbformat": 4,
  "nbformat_minor": 0,
  "metadata": {
    "colab": {
      "name": "grafica_dinamica.ipynb",
      "provenance": [],
      "authorship_tag": "ABX9TyPNKncTTEWXz8W9dtVzLyze",
      "include_colab_link": true
    },
    "kernelspec": {
      "name": "python3",
      "display_name": "Python 3"
    }
  },
  "cells": [
    {
      "cell_type": "markdown",
      "metadata": {
        "id": "view-in-github",
        "colab_type": "text"
      },
      "source": [
        "<a href=\"https://colab.research.google.com/github/drcruzm/cursoP/blob/master/grafica_dinamica.ipynb\" target=\"_parent\"><img src=\"https://colab.research.google.com/assets/colab-badge.svg\" alt=\"Open In Colab\"/></a>"
      ]
    },
    {
      "cell_type": "code",
      "metadata": {
        "id": "r9qdhUpIIKYO",
        "colab_type": "code",
        "colab": {}
      },
      "source": [
        "import matplotlib.pyplot as plt\n",
        "import numpy as np\n",
        "import matplotlib.animation as animation"
      ],
      "execution_count": 0,
      "outputs": []
    },
    {
      "cell_type": "code",
      "metadata": {
        "id": "jztzrrd6IfrG",
        "colab_type": "code",
        "colab": {}
      },
      "source": [
        "x=np.linspace(-1, 2 ,500)\n",
        "# y = x**3*np.sin(x) -1/x\n",
        "\n",
        "#y = x**3 -7*x +4\n",
        "#y = (x+2)*(x+1)**2 *x* (x-1)**3* (x-2)\n",
        "y = x*np.cos(x) - 2*x**2 + 3*x -1\n",
        "#y= np.cosh(x) * np.cos(x)  + 1\n",
        "# y= np.sin(x) - (1/np.sin(x))  + 1\n",
        "#y = np.exp(x-1) + x -3\n",
        "\n",
        "#y = 3* np.cos(x-np.pi/4) - x"
      ],
      "execution_count": 0,
      "outputs": []
    },
    {
      "cell_type": "code",
      "metadata": {
        "id": "9p9eClZAJMH1",
        "colab_type": "code",
        "colab": {}
      },
      "source": [
        " \n",
        "def actualizar(i):\n",
        "  ax.clear()\n",
        "  ax.plot(x[:i],y[:i])\n",
        "  plt.axhline(linewidth=.5, color='r')\n",
        "  plt.title(str(x[i]))\n",
        "  plt.xlabel('y = x**3*np.sin(x) -1/x ')\n",
        "  plt.xlim(min(x),max(x))\n",
        "  plt.ylim(min(y),max(y))\n",
        "\n"
      ],
      "execution_count": 0,
      "outputs": []
    },
    {
      "cell_type": "code",
      "metadata": {
        "id": "ReoKZfDRJxeH",
        "colab_type": "code",
        "colab": {}
      },
      "source": [
        "# Animacion\n",
        "fig=plt.figure()\n",
        "ax=fig.gca() \n",
        "ani= animation.FuncAnimation(fig, actualizar,\n",
        "                             range(len(x)),\n",
        "                             interval=20,\n",
        "                             repeat=False)\n",
        "plt.show()\n",
        "#%%\n",
        "plt.axvline(x= 2.955 , linestyle='dashed', linewidth= 0.6, color='g',)\n",
        "#plt.axvline(x= 0.6025, linestyle='dashed', linewidth= 0.6, color='g',)"
      ],
      "execution_count": 0,
      "outputs": []
    },
    {
      "cell_type": "code",
      "metadata": {
        "id": "y1gVpjddMXZe",
        "colab_type": "code",
        "colab": {
          "base_uri": "https://localhost:8080/",
          "height": 34
        },
        "outputId": "e184dea0-2030-414c-882d-e81349220656"
      },
      "source": [
        "%matplotlib auto"
      ],
      "execution_count": 10,
      "outputs": [
        {
          "output_type": "stream",
          "text": [
            "Using matplotlib backend: agg\n"
          ],
          "name": "stdout"
        }
      ]
    },
    {
      "cell_type": "code",
      "metadata": {
        "id": "hiYeBRp5KLTp",
        "colab_type": "code",
        "colab": {}
      },
      "source": [
        ""
      ],
      "execution_count": 0,
      "outputs": []
    }
  ]
}